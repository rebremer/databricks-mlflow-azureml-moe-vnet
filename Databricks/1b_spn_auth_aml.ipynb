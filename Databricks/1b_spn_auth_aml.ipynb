{
 "cells": [
  {
   "cell_type": "code",
   "execution_count": 0,
   "metadata": {
    "application/vnd.databricks.v1+cell": {
     "cellMetadata": {
      "byteLimit": 2048000,
      "rowLimit": 10000
     },
     "inputWidgets": {},
     "nuid": "8858b679-4f4b-4dbc-917c-56c287eedf37",
     "showTitle": false,
     "title": ""
    }
   },
   "outputs": [],
   "source": [
    "# Make sure that libraries azure-ai-ml, azureml-core and azureml-mlflow are installed on the cluster",
    "import azureml\n",
    "from azureml.core import Workspace\n",
    "from azureml.core.authentication import ServicePrincipalAuthentication\n",
    "import mlflow"
   ]
  },
  {
   "cell_type": "code",
   "execution_count": 0,
   "metadata": {
    "application/vnd.databricks.v1+cell": {
     "cellMetadata": {
      "byteLimit": 2048000,
      "rowLimit": 10000
     },
     "inputWidgets": {},
     "nuid": "eb7a14f7-a362-4a18-b089-e1d8c684d827",
     "showTitle": false,
     "title": ""
    }
   },
   "outputs": [],
   "source": [
    "workspace_name = \"<<your AML workspace name>>\"\n",
    "workspace_location = \"<<your location>>\"\n",
    "resource_group = \"<<your resource group>>\"\n",
    "subscription_id = \"<<your subscription id>>\""
   ]
  },
  {
   "cell_type": "code",
   "execution_count": 0,
   "metadata": {
    "application/vnd.databricks.v1+cell": {
     "cellMetadata": {
      "byteLimit": 2048000,
      "rowLimit": 10000
     },
     "inputWidgets": {},
     "nuid": "0a11872b-d132-4850-88a9-79c6c963a0c6",
     "showTitle": false,
     "title": ""
    }
   },
   "outputs": [],
   "source": [
    "svc_pr = ServicePrincipalAuthentication(\n",
    "tenant_id = \"<<your Azure tenant ID>>\",\n",
    "service_principal_id = \"<<your SPN application id>>\",\n",
    "service_principal_password = \"<<your SPN application secret>>\")"
   ]
  },
  {
   "cell_type": "code",
   "execution_count": 0,
   "metadata": {
    "application/vnd.databricks.v1+cell": {
     "cellMetadata": {
      "byteLimit": 2048000,
      "rowLimit": 10000
     },
     "inputWidgets": {},
     "nuid": "6fa86ed9-9bcb-4223-afed-8c97273fb67a",
     "showTitle": false,
     "title": ""
    }
   },
   "outputs": [],
   "source": [
    "import os\n",
    "\n",
    "os.environ[\"AZURE_TENANT_ID\"] = \"<<your Azure tenant ID>>\"\n",
    "os.environ[\"AZURE_CLIENT_ID\"] = \"<<your SPN application id>>\"\n",
    "os.environ[\"AZURE_CLIENT_SECRET\"] = \"<<your SPN application secret>>\""
   ]
  },
  {
   "cell_type": "code",
   "execution_count": 0,
   "metadata": {
    "application/vnd.databricks.v1+cell": {
     "cellMetadata": {
      "byteLimit": 2048000,
      "rowLimit": 10000
     },
     "inputWidgets": {},
     "nuid": "6601aefc-f515-4b66-ac61-95433c901c99",
     "showTitle": false,
     "title": ""
    }
   },
   "outputs": [],
   "source": [
    "from azure.ai.ml import MLClient\n",
    "\n",
    "ml_client = MLClient(\n",
    "    svc_pr, subscription_id, resource_group, workspace_name\n",
    ")"
   ]
  },
  {
   "cell_type": "code",
   "execution_count": 0,
   "metadata": {
    "application/vnd.databricks.v1+cell": {
     "cellMetadata": {
      "byteLimit": 2048000,
      "rowLimit": 10000
     },
     "inputWidgets": {},
     "nuid": "16b754a8-21d5-479c-b1b0-639fdc0e985a",
     "showTitle": false,
     "title": ""
    }
   },
   "outputs": [],
   "source": [
    "azureml_tracking_uri = ml_client.workspaces.get(\n",
    "    ml_client.workspace_name\n",
    ").mlflow_tracking_uri"
   ]
  },
  {
   "cell_type": "code",
   "execution_count": 0,
   "metadata": {
    "application/vnd.databricks.v1+cell": {
     "cellMetadata": {
      "byteLimit": 2048000,
      "rowLimit": 10000
     },
     "inputWidgets": {},
     "nuid": "1ab62354-7cef-49ab-af1e-da575531d816",
     "showTitle": false,
     "title": ""
    }
   },
   "outputs": [
    {
     "output_type": "execute_result",
     "data": {
      "text/plain": [
       "'azureml://d2752b42-4b7d-4bbb-820e-8e550c684f7e.workspace.westeurope.api.azureml.ms/mlflow/v1.0/subscriptions/37706cf5-5fe6-4528-9c30-4560d04e81ab/resourceGroups/test-amldbr-rg/providers/Microsoft.MachineLearningServices/workspaces/test-amldbr-aml'"
      ]
     },
     "execution_count": 8,
     "metadata": {},
     "output_type": "execute_result"
    }
   ],
   "source": [
    "azureml_tracking_uri"
   ]
  },
  {
   "cell_type": "code",
   "execution_count": 0,
   "metadata": {
    "application/vnd.databricks.v1+cell": {
     "cellMetadata": {
      "byteLimit": 2048000,
      "rowLimit": 10000
     },
     "inputWidgets": {},
     "nuid": "182d5787-5253-441c-a143-ae5ba4312000",
     "showTitle": false,
     "title": ""
    }
   },
   "outputs": [],
   "source": [
    "import mlflow\n",
    "\n",
    "mlflow.set_tracking_uri(azureml_tracking_uri)"
   ]
  },
  {
   "cell_type": "code",
   "execution_count": 0,
   "metadata": {
    "application/vnd.databricks.v1+cell": {
     "cellMetadata": {
      "byteLimit": 2048000,
      "rowLimit": 10000
     },
     "inputWidgets": {},
     "nuid": "58517f4b-5cba-4a94-99cb-c6b2dc526db5",
     "showTitle": false,
     "title": ""
    }
   },
   "outputs": [
    {
     "output_type": "execute_result",
     "data": {
      "text/plain": [
       "'azureml://d2752b42-4b7d-4bbb-820e-8e550c684f7e.workspace.westeurope.api.azureml.ms/mlflow/v1.0/subscriptions/37706cf5-5fe6-4528-9c30-4560d04e81ab/resourceGroups/test-amldbr-rg/providers/Microsoft.MachineLearningServices/workspaces/test-amldbr-aml'"
      ]
     },
     "execution_count": 10,
     "metadata": {},
     "output_type": "execute_result"
    }
   ],
   "source": [
    "mlflow.get_tracking_uri()"
   ]
  },
  {
   "cell_type": "code",
   "execution_count": 0,
   "metadata": {
    "application/vnd.databricks.v1+cell": {
     "cellMetadata": {
      "byteLimit": 2048000,
      "rowLimit": 10000
     },
     "inputWidgets": {},
     "nuid": "740dfc25-8965-46f1-a77c-8847eca1d578",
     "showTitle": false,
     "title": ""
    }
   },
   "outputs": [
    {
     "output_type": "stream",
     "name": "stdout",
     "output_type": "stream",
     "text": [
      "Server:\t\t168.63.129.16\nAddress:\t168.63.129.16#53\n\nNon-authoritative answer:\nd2752b42-4b7d-4bbb-820e-8e550c684f7e.workspace.westeurope.api.azureml.ms\tcanonical name = d2752b42-4b7d-4bbb-820e-8e550c684f7e.workspace.westeurope.privatelink.api.azureml.ms.\nName:\td2752b42-4b7d-4bbb-820e-8e550c684f7e.workspace.westeurope.privatelink.api.azureml.ms\nAddress: 10.0.0.4\n\n"
     ]
    }
   ],
   "source": [
    "%sh\n",
    "\n",
    "nslookup d2752b42-4b7d-4bbb-820e-8e550c684f7e.workspace.westeurope.api.azureml.ms"
   ]
  },
  {
   "cell_type": "code",
   "execution_count": 0,
   "metadata": {
    "application/vnd.databricks.v1+cell": {
     "cellMetadata": {
      "byteLimit": 2048000,
      "rowLimit": 10000
     },
     "inputWidgets": {},
     "nuid": "ec23c379-ba7f-405a-8621-449f1ff84679",
     "showTitle": false,
     "title": ""
    }
   },
   "outputs": [
    {
     "output_type": "stream",
     "name": "stderr",
     "output_type": "stream",
     "text": [
      "Request time out. Ingestion may be backed up. Retrying.\n2023/06/05 08:48:34 INFO mlflow.tracking.fluent: Experiment with name 'test1priv6' does not exist. Creating a new experiment.\n"
     ]
    },
    {
     "output_type": "execute_result",
     "data": {
      "text/plain": [
       "<Experiment: artifact_location='', creation_time=1685954914718, experiment_id='9f5a78bc-d941-4b18-9af5-4c1f19e3af58', last_update_time=None, lifecycle_stage='active', name='test1priv6', tags={}>"
      ]
     },
     "execution_count": 12,
     "metadata": {},
     "output_type": "execute_result"
    }
   ],
   "source": [
    "mlflow.set_experiment(experiment_name=\"test1priv6\")"
   ]
  },
  {
   "cell_type": "code",
   "execution_count": 0,
   "metadata": {
    "application/vnd.databricks.v1+cell": {
     "cellMetadata": {
      "byteLimit": 2048000,
      "rowLimit": 10000
     },
     "inputWidgets": {},
     "nuid": "84b31f22-07dd-41bf-bbb6-e4a07e890199",
     "showTitle": false,
     "title": ""
    }
   },
   "outputs": [
    {
     "output_type": "execute_result",
     "data": {
      "text/plain": [
       "<ActiveRun: >"
      ]
     },
     "execution_count": 13,
     "metadata": {},
     "output_type": "execute_result"
    }
   ],
   "source": [
    "mlflow.start_run()"
   ]
  },
  {
   "cell_type": "code",
   "execution_count": 0,
   "metadata": {
    "application/vnd.databricks.v1+cell": {
     "cellMetadata": {},
     "inputWidgets": {},
     "nuid": "c9957b74-c6e7-4cf7-973b-828d13149173",
     "showTitle": false,
     "title": ""
    }
   },
   "outputs": [],
   "source": []
  }
 ],
 "metadata": {
  "application/vnd.databricks.v1+notebook": {
   "dashboards": [],
   "language": "python",
   "notebookMetadata": {
    "mostRecentlyExecutedCommandWithImplicitDF": {
     "commandId": 825937256413287,
     "dataframes": [
      "_sqldf"
     ]
    },
    "pythonIndentUnit": 4
   },
   "notebookName": "aml_deployment",
   "widgets": {}
  }
 },
 "nbformat": 4,
 "nbformat_minor": 0
}
